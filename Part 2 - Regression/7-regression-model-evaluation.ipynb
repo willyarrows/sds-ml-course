{
 "cells": [
  {
   "cell_type": "markdown",
   "id": "c2ee36fe",
   "metadata": {},
   "source": [
    "# Regression Model Evaluation"
   ]
  },
  {
   "cell_type": "markdown",
   "id": "60a34b0f",
   "metadata": {},
   "source": [
    "## Import the libraries"
   ]
  },
  {
   "cell_type": "code",
   "execution_count": 1,
   "id": "99d2d692",
   "metadata": {},
   "outputs": [],
   "source": [
    "import numpy as np\n",
    "import matplotlib.pyplot as plt\n",
    "import pandas as pd"
   ]
  },
  {
   "cell_type": "markdown",
   "id": "aff2e71c",
   "metadata": {},
   "source": [
    "## Import the dataset"
   ]
  },
  {
   "cell_type": "code",
   "execution_count": 2,
   "id": "72c3cf00",
   "metadata": {},
   "outputs": [],
   "source": [
    "dataset = pd.read_csv(\"data/Data.csv\")\n",
    "X = dataset.iloc[:, :-1]\n",
    "y = dataset.iloc[:, -1]"
   ]
  },
  {
   "cell_type": "code",
   "execution_count": 3,
   "id": "51d707da",
   "metadata": {},
   "outputs": [
    {
     "name": "stdout",
     "output_type": "stream",
     "text": [
      "         AT      V       AP     RH\n",
      "0     14.96  41.76  1024.07  73.17\n",
      "1     25.18  62.96  1020.04  59.08\n",
      "2      5.11  39.40  1012.16  92.14\n",
      "3     20.86  57.32  1010.24  76.64\n",
      "4     10.82  37.50  1009.23  96.62\n",
      "...     ...    ...      ...    ...\n",
      "9563  16.65  49.69  1014.01  91.00\n",
      "9564  13.19  39.18  1023.67  66.78\n",
      "9565  31.32  74.33  1012.92  36.48\n",
      "9566  24.48  69.45  1013.86  62.39\n",
      "9567  21.60  62.52  1017.23  67.87\n",
      "\n",
      "[9568 rows x 4 columns]\n"
     ]
    }
   ],
   "source": [
    "print(X)"
   ]
  },
  {
   "cell_type": "code",
   "execution_count": 4,
   "id": "48835bcc",
   "metadata": {},
   "outputs": [
    {
     "name": "stdout",
     "output_type": "stream",
     "text": [
      "0       463.26\n",
      "1       444.37\n",
      "2       488.56\n",
      "3       446.48\n",
      "4       473.90\n",
      "         ...  \n",
      "9563    460.03\n",
      "9564    469.62\n",
      "9565    429.57\n",
      "9566    435.74\n",
      "9567    453.28\n",
      "Name: PE, Length: 9568, dtype: float64\n"
     ]
    }
   ],
   "source": [
    "print(y)"
   ]
  },
  {
   "cell_type": "markdown",
   "id": "0de3cefb",
   "metadata": {},
   "source": [
    "## Splitting the dataset into the Training Set and Test Set"
   ]
  },
  {
   "cell_type": "code",
   "execution_count": 5,
   "id": "7e240d3f",
   "metadata": {},
   "outputs": [],
   "source": [
    "from sklearn.model_selection import train_test_split\n",
    "X_train, X_test, y_train, y_test = train_test_split(X, y, test_size=0.2, random_state=0)"
   ]
  },
  {
   "cell_type": "code",
   "execution_count": 6,
   "id": "f9f0f468",
   "metadata": {},
   "outputs": [
    {
     "name": "stdout",
     "output_type": "stream",
     "text": [
      "7654 1914 7654 1914\n"
     ]
    }
   ],
   "source": [
    "print(len(X_train), len(X_test), len(y_train), len(y_test))"
   ]
  },
  {
   "cell_type": "markdown",
   "id": "67c8fb3d",
   "metadata": {},
   "source": [
    "## Feature Scaling"
   ]
  },
  {
   "cell_type": "code",
   "execution_count": 7,
   "id": "fbc27ec4",
   "metadata": {},
   "outputs": [],
   "source": [
    "# We need to do feature scaling for fitting SVR model to training data\n",
    "\n",
    "from sklearn.preprocessing import StandardScaler\n",
    "\n",
    "# Create different scaler from X & y\n",
    "sc_x = StandardScaler()\n",
    "sc_y = StandardScaler()\n",
    "\n",
    "# Fit the scaler to the dataset\n",
    "X_train_std = sc_x.fit_transform(X_train)\n",
    "X_test_std = sc_x.transform(X_test)\n",
    "y_train_std = sc_y.fit_transform(y_train.values.reshape(-1, 1)).reshape(-1)\n",
    "y_test_std = sc_y.transform(y_test.values.reshape(-1, 1)).reshape(-1)"
   ]
  },
  {
   "cell_type": "markdown",
   "id": "1b43c728",
   "metadata": {},
   "source": [
    "## Training the various Regression Model on the Training Set"
   ]
  },
  {
   "cell_type": "markdown",
   "id": "9c4d78b4",
   "metadata": {},
   "source": [
    "### Multiple Linear Regression"
   ]
  },
  {
   "cell_type": "code",
   "execution_count": 8,
   "id": "26286cdf",
   "metadata": {},
   "outputs": [
    {
     "data": {
      "text/plain": [
       "LinearRegression()"
      ]
     },
     "execution_count": 8,
     "metadata": {},
     "output_type": "execute_result"
    }
   ],
   "source": [
    "from sklearn.linear_model import LinearRegression\n",
    "\n",
    "lin_reg = LinearRegression()\n",
    "lin_reg.fit(X_train, y_train)"
   ]
  },
  {
   "cell_type": "markdown",
   "id": "8f51fe35",
   "metadata": {},
   "source": [
    "### Polynomial Regression"
   ]
  },
  {
   "cell_type": "code",
   "execution_count": 9,
   "id": "8c67a080",
   "metadata": {},
   "outputs": [
    {
     "data": {
      "text/plain": [
       "LinearRegression()"
      ]
     },
     "execution_count": 9,
     "metadata": {},
     "output_type": "execute_result"
    }
   ],
   "source": [
    "from sklearn.preprocessing import PolynomialFeatures\n",
    "from sklearn.linear_model import LinearRegression\n",
    "\n",
    "# Convert X_train and X_test into Polynomian Features\n",
    "poly_feat = PolynomialFeatures(degree=4)\n",
    "X_train_poly = poly_feat.fit_transform(X_train)\n",
    "X_test_poly = poly_feat.transform(X_test)\n",
    "\n",
    "poly_reg = LinearRegression()\n",
    "poly_reg.fit(X_train_poly, y_train)"
   ]
  },
  {
   "cell_type": "markdown",
   "id": "8b347c6a",
   "metadata": {},
   "source": [
    "### Support Vector Regression"
   ]
  },
  {
   "cell_type": "code",
   "execution_count": 10,
   "id": "31b23eef",
   "metadata": {},
   "outputs": [
    {
     "data": {
      "text/plain": [
       "SVR()"
      ]
     },
     "execution_count": 10,
     "metadata": {},
     "output_type": "execute_result"
    }
   ],
   "source": [
    "from sklearn.svm import SVR\n",
    "\n",
    "svr_reg = SVR(kernel='rbf')\n",
    "svr_reg.fit(X_train_std, y_train_std)"
   ]
  },
  {
   "cell_type": "markdown",
   "id": "3054fc1f",
   "metadata": {},
   "source": [
    "### Decision Tree Regression"
   ]
  },
  {
   "cell_type": "code",
   "execution_count": 11,
   "id": "2d2eb351",
   "metadata": {},
   "outputs": [
    {
     "data": {
      "text/plain": [
       "DecisionTreeRegressor(random_state=0)"
      ]
     },
     "execution_count": 11,
     "metadata": {},
     "output_type": "execute_result"
    }
   ],
   "source": [
    "from sklearn.tree import DecisionTreeRegressor\n",
    "\n",
    "tree_reg = DecisionTreeRegressor(random_state=0)\n",
    "tree_reg.fit(X_train, y_train)"
   ]
  },
  {
   "cell_type": "markdown",
   "id": "9ebd12a4",
   "metadata": {},
   "source": [
    "### Random Forrest Regression"
   ]
  },
  {
   "cell_type": "code",
   "execution_count": 12,
   "id": "e7d4987b",
   "metadata": {},
   "outputs": [
    {
     "data": {
      "text/plain": [
       "RandomForestRegressor(random_state=0)"
      ]
     },
     "execution_count": 12,
     "metadata": {},
     "output_type": "execute_result"
    }
   ],
   "source": [
    "from sklearn.ensemble import RandomForestRegressor\n",
    "\n",
    "forest_reg = RandomForestRegressor(random_state=0)\n",
    "forest_reg.fit(X_train, y_train)"
   ]
  },
  {
   "cell_type": "markdown",
   "id": "0e0b3a05",
   "metadata": {},
   "source": [
    "## Predicting the Test Result"
   ]
  },
  {
   "cell_type": "code",
   "execution_count": 13,
   "id": "818c1e26",
   "metadata": {},
   "outputs": [
    {
     "name": "stdout",
     "output_type": "stream",
     "text": [
      " y pred <Lin Reg>  y pred <Poly Reg>  y pred <SVR Reg>  y pred <DTree Reg>  y pred <RForest Reg>  y test\n",
      "           431.43             433.94            434.05              431.28                433.64  431.23\n",
      "           458.56             457.90            457.94              459.59                457.71  460.01\n",
      "           462.75             460.52            461.03              460.06                463.41  461.14\n",
      "           448.60             447.57            448.63              452.71                446.45  445.90\n",
      "           457.87             457.22            457.83              459.61                459.34  451.29\n",
      "           429.69             433.74            433.65              434.30                435.20  432.68\n",
      "           473.04             473.59            473.91              467.83                473.53  477.50\n",
      "           456.51             456.55            457.15              458.64                457.86  459.68\n",
      "           474.34             474.75            474.65              476.89                475.97  477.50\n",
      "           446.34             443.12            442.02              435.49                444.10  444.99\n"
     ]
    }
   ],
   "source": [
    "y_pred_lin_reg = lin_reg.predict(X_test)\n",
    "y_pred_poly_reg = poly_reg.predict(X_test_poly)\n",
    "y_pred_svr_reg = sc_y.inverse_transform(svr_reg.predict(X_test_std))\n",
    "y_pred_dtree_reg = tree_reg.predict(X_test)\n",
    "y_pred_rforest_reg = forest_reg.predict(X_test)\n",
    "\n",
    "pd.set_option(\"display.precision\", 2)\n",
    "result_dataset = pd.DataFrame({\"y pred <Lin Reg>\" : y_pred_lin_reg, \n",
    "                               \"y pred <Poly Reg>\" : y_pred_poly_reg,\n",
    "                               \"y pred <SVR Reg>\" : y_pred_svr_reg, \n",
    "                               \"y pred <DTree Reg>\" : y_pred_dtree_reg, \n",
    "                               \"y pred <RForest Reg>\" : y_pred_rforest_reg, \n",
    "                               \"y test\" : y_test})\n",
    "print(result_dataset.head(10).to_string(index=False))"
   ]
  },
  {
   "cell_type": "markdown",
   "id": "b437d590",
   "metadata": {},
   "source": [
    "## Evaluation the Model Performance"
   ]
  },
  {
   "cell_type": "code",
   "execution_count": 14,
   "id": "ebe29ad9",
   "metadata": {},
   "outputs": [
    {
     "data": {
      "text/html": [
       "<div>\n",
       "<style scoped>\n",
       "    .dataframe tbody tr th:only-of-type {\n",
       "        vertical-align: middle;\n",
       "    }\n",
       "\n",
       "    .dataframe tbody tr th {\n",
       "        vertical-align: top;\n",
       "    }\n",
       "\n",
       "    .dataframe thead th {\n",
       "        text-align: right;\n",
       "    }\n",
       "</style>\n",
       "<table border=\"1\" class=\"dataframe\">\n",
       "  <thead>\n",
       "    <tr style=\"text-align: right;\">\n",
       "      <th></th>\n",
       "      <th>Model Name</th>\n",
       "      <th>R2 Score</th>\n",
       "    </tr>\n",
       "  </thead>\n",
       "  <tbody>\n",
       "    <tr>\n",
       "      <th>0</th>\n",
       "      <td>Random Forest Regression</td>\n",
       "      <td>0.96511</td>\n",
       "    </tr>\n",
       "    <tr>\n",
       "      <th>1</th>\n",
       "      <td>Support Vector Regression</td>\n",
       "      <td>0.94808</td>\n",
       "    </tr>\n",
       "    <tr>\n",
       "      <th>2</th>\n",
       "      <td>Polynomial Regression</td>\n",
       "      <td>0.94582</td>\n",
       "    </tr>\n",
       "    <tr>\n",
       "      <th>3</th>\n",
       "      <td>Multiple Linear Regression</td>\n",
       "      <td>0.93253</td>\n",
       "    </tr>\n",
       "    <tr>\n",
       "      <th>4</th>\n",
       "      <td>Decision Tree Regression</td>\n",
       "      <td>0.92291</td>\n",
       "    </tr>\n",
       "  </tbody>\n",
       "</table>\n",
       "</div>"
      ],
      "text/plain": [
       "                   Model Name  R2 Score\n",
       "0    Random Forest Regression   0.96511\n",
       "1   Support Vector Regression   0.94808\n",
       "2       Polynomial Regression   0.94582\n",
       "3  Multiple Linear Regression   0.93253\n",
       "4    Decision Tree Regression   0.92291"
      ]
     },
     "execution_count": 14,
     "metadata": {},
     "output_type": "execute_result"
    }
   ],
   "source": [
    "from sklearn.metrics import r2_score\n",
    "\n",
    "pd.set_option(\"display.precision\", 5)\n",
    "\n",
    "score_list = [[\"Multiple Linear Regression\", r2_score(y_test, y_pred_lin_reg)],\n",
    "              [\"Polynomial Regression\", r2_score(y_test, y_pred_poly_reg)],\n",
    "              [\"Support Vector Regression\", r2_score(y_test, y_pred_svr_reg)],\n",
    "              [\"Decision Tree Regression\", r2_score(y_test, y_pred_dtree_reg)],\n",
    "              [\"Random Forest Regression\", r2_score(y_test, y_pred_rforest_reg)]]\n",
    "\n",
    "df_model_score = pd.DataFrame(score_list, columns=[\"Model Name\",\"R2 Score\"])\n",
    "\n",
    "df_model_score.sort_values(by=[\"R2 Score\"], ascending=False, ignore_index=True, inplace=True)\n",
    "\n",
    "df_model_score"
   ]
  }
 ],
 "metadata": {
  "kernelspec": {
   "display_name": "Python 3 (ipykernel)",
   "language": "python",
   "name": "python3"
  },
  "language_info": {
   "codemirror_mode": {
    "name": "ipython",
    "version": 3
   },
   "file_extension": ".py",
   "mimetype": "text/x-python",
   "name": "python",
   "nbconvert_exporter": "python",
   "pygments_lexer": "ipython3",
   "version": "3.9.6"
  }
 },
 "nbformat": 4,
 "nbformat_minor": 5
}
