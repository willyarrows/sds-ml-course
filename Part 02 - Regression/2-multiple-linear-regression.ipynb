{
 "cells": [
  {
   "cell_type": "markdown",
   "id": "e48f57b2",
   "metadata": {},
   "source": [
    "# Multiple Linear Regression"
   ]
  },
  {
   "cell_type": "markdown",
   "id": "97cd39d6",
   "metadata": {},
   "source": [
    "## Importing the libraries"
   ]
  },
  {
   "cell_type": "code",
   "execution_count": 3,
   "id": "2691f372",
   "metadata": {},
   "outputs": [],
   "source": [
    "import numpy as np\n",
    "import matplotlib.pyplot as plt\n",
    "import pandas as pd"
   ]
  },
  {
   "cell_type": "markdown",
   "id": "528d098a",
   "metadata": {},
   "source": [
    "## Importing the dataset"
   ]
  },
  {
   "cell_type": "code",
   "execution_count": 4,
   "id": "23040b07",
   "metadata": {},
   "outputs": [],
   "source": [
    "dataset = pd.read_csv(\"data/50_Startups.csv\")\n",
    "X = dataset.iloc[:, :-1]\n",
    "y = dataset.iloc[:, -1]"
   ]
  },
  {
   "cell_type": "code",
   "execution_count": 5,
   "id": "8e835eec",
   "metadata": {},
   "outputs": [
    {
     "name": "stdout",
     "output_type": "stream",
     "text": [
      "   R&D Spend  Administration  Marketing Spend       State\n",
      "0  165349.20       136897.80        471784.10    New York\n",
      "1  162597.70       151377.59        443898.53  California\n",
      "2  153441.51       101145.55        407934.54     Florida\n",
      "3  144372.41       118671.85        383199.62    New York\n",
      "4  142107.34        91391.77        366168.42     Florida\n",
      "5  131876.90        99814.71        362861.36    New York\n",
      "6  134615.46       147198.87        127716.82  California\n",
      "7  130298.13       145530.06        323876.68     Florida\n",
      "8  120542.52       148718.95        311613.29    New York\n",
      "9  123334.88       108679.17        304981.62  California\n"
     ]
    }
   ],
   "source": [
    "print(X.head(10))"
   ]
  },
  {
   "cell_type": "code",
   "execution_count": 6,
   "id": "7e7f4772",
   "metadata": {},
   "outputs": [
    {
     "name": "stdout",
     "output_type": "stream",
     "text": [
      "0    192261.83\n",
      "1    191792.06\n",
      "2    191050.39\n",
      "3    182901.99\n",
      "4    166187.94\n",
      "5    156991.12\n",
      "6    156122.51\n",
      "7    155752.60\n",
      "8    152211.77\n",
      "9    149759.96\n",
      "Name: Profit, dtype: float64\n"
     ]
    }
   ],
   "source": [
    "print (y.head(10))"
   ]
  },
  {
   "cell_type": "markdown",
   "id": "1ade9bc4",
   "metadata": {},
   "source": [
    "## Encode Categorical Data"
   ]
  },
  {
   "cell_type": "code",
   "execution_count": 7,
   "id": "0d0ae2f8",
   "metadata": {},
   "outputs": [],
   "source": [
    "from sklearn.preprocessing import OneHotEncoder\n",
    "\n",
    "# Define which categorical columns that we are going to encode\n",
    "cat_features = [\"State\"]\n",
    "\n",
    "# Encode the categorical columns\n",
    "encoder = OneHotEncoder(sparse=False)\n",
    "X_encoded = pd.DataFrame(encoder.fit_transform(X.loc[:, cat_features]))\n",
    "X_encoded.columns = encoder.get_feature_names(cat_features)\n",
    "\n",
    "# Combine X with encoded columns\n",
    "X.drop(cat_features ,axis=1, inplace=True)\n",
    "X = pd.concat([X_encoded, X], axis=1)"
   ]
  },
  {
   "cell_type": "code",
   "execution_count": 9,
   "id": "3b63a434",
   "metadata": {},
   "outputs": [
    {
     "name": "stdout",
     "output_type": "stream",
     "text": [
      "   State_California  State_Florida  State_New York  R&D Spend  Administration  \\\n",
      "0               0.0            0.0             1.0  165349.20       136897.80   \n",
      "1               1.0            0.0             0.0  162597.70       151377.59   \n",
      "2               0.0            1.0             0.0  153441.51       101145.55   \n",
      "3               0.0            0.0             1.0  144372.41       118671.85   \n",
      "4               0.0            1.0             0.0  142107.34        91391.77   \n",
      "\n",
      "   Marketing Spend  \n",
      "0        471784.10  \n",
      "1        443898.53  \n",
      "2        407934.54  \n",
      "3        383199.62  \n",
      "4        366168.42  \n"
     ]
    }
   ],
   "source": [
    "print(X.head(5))"
   ]
  },
  {
   "cell_type": "markdown",
   "id": "6c4d8651",
   "metadata": {},
   "source": [
    "## Splitting the dataset into Training set and Test set"
   ]
  },
  {
   "cell_type": "code",
   "execution_count": 10,
   "id": "73f7a5d6",
   "metadata": {},
   "outputs": [],
   "source": [
    "from sklearn.model_selection import train_test_split\n",
    "X_train, X_test, y_train, y_test = train_test_split(X, y, test_size=0.2, random_state=0)"
   ]
  },
  {
   "cell_type": "code",
   "execution_count": 11,
   "id": "5bb8bbad",
   "metadata": {},
   "outputs": [
    {
     "name": "stdout",
     "output_type": "stream",
     "text": [
      "40 10 40 10\n"
     ]
    }
   ],
   "source": [
    "print(len(X_train), len(X_test), len(y_train), len(y_test))"
   ]
  },
  {
   "cell_type": "markdown",
   "id": "41bf92bc",
   "metadata": {},
   "source": [
    "## Training the Multiple Linear Regression model on the Training Set"
   ]
  },
  {
   "cell_type": "code",
   "execution_count": 12,
   "id": "0f3200b0",
   "metadata": {},
   "outputs": [
    {
     "data": {
      "text/plain": [
       "LinearRegression()"
      ]
     },
     "execution_count": 12,
     "metadata": {},
     "output_type": "execute_result"
    }
   ],
   "source": [
    "from sklearn.linear_model import LinearRegression\n",
    "\n",
    "regressor = LinearRegression()\n",
    "regressor.fit(X_train, y_train)"
   ]
  },
  {
   "cell_type": "markdown",
   "id": "9c60add9",
   "metadata": {},
   "source": [
    "## Predicting the Test set results"
   ]
  },
  {
   "cell_type": "code",
   "execution_count": 44,
   "id": "75d7d5fb",
   "metadata": {},
   "outputs": [
    {
     "name": "stdout",
     "output_type": "stream",
     "text": [
      " Predicted Profit  Actual Profit     Error\n",
      "        103015.20      103282.38   -267.18\n",
      "        132582.28      144259.40 -11677.12\n",
      "        132447.74      146121.95 -13674.21\n",
      "         71976.10       77798.83  -5822.73\n",
      "        178537.48      191050.39 -12512.91\n",
      "        116161.24      105008.31  11152.93\n",
      "         67851.69       81229.06 -13377.37\n",
      "         98791.73       97483.56   1308.17\n",
      "        113969.44      110352.25   3617.19\n",
      "        167921.07      166187.94   1733.13\n"
     ]
    }
   ],
   "source": [
    "y_pred = regressor.predict(X_test) # the vector of predicted label\n",
    "pd.set_option(\"display.precision\", 2) # set the printed format into 2 decimal\n",
    "result_dataset = pd.DataFrame({\"Predicted Profit\" : y_pred, \n",
    "                              \"Actual Profit\" : y_test,\n",
    "                              \"Error\" : y_pred - y_test})\n",
    "print(result_dataset.to_string(index=False))"
   ]
  },
  {
   "cell_type": "markdown",
   "id": "91a95b75",
   "metadata": {},
   "source": [
    "## Getting the final linear regression equation with the values of the coefficients"
   ]
  },
  {
   "cell_type": "code",
   "execution_count": 41,
   "id": "1c58ccf2",
   "metadata": {},
   "outputs": [
    {
     "name": "stdout",
     "output_type": "stream",
     "text": [
      "Regression Coefficient : [ 8.66e+01 -8.73e+02  7.86e+02  7.73e-01  3.29e-02  3.66e-02]\n",
      "Regression Intercept : 42467.529248519335\n"
     ]
    }
   ],
   "source": [
    "print(f\"Regression Coefficient : {regressor.coef_}\")\n",
    "print(f\"Regression Intercept : {regressor.intercept_}\")"
   ]
  },
  {
   "cell_type": "markdown",
   "id": "025be1d1",
   "metadata": {},
   "source": [
    "Therefore, the equation of our multiple linear regression model is:\n",
    "\n",
    "$$\\textrm{Profit} = 86.6 \\times \\textrm{State_California} - 873 \\times \\textrm{State_Florida} + 786 \\times \\textrm{State_New York} + 0.773 \\times \\textrm{R&D Spend} + 0.0329 \\times \\textrm{Administration} + 0.0366 \\times \\textrm{Marketing Spend} + 42467.53$$\n",
    "\n",
    "**Important Note:** To get these coefficients we called the \"coef_\" and \"intercept_\" attributes from our regressor object. Attributes in Python are different than methods and usually return a simple value or an array of values."
   ]
  },
  {
   "cell_type": "code",
   "execution_count": null,
   "id": "f9c8954d",
   "metadata": {},
   "outputs": [],
   "source": []
  }
 ],
 "metadata": {
  "kernelspec": {
   "display_name": "Python 3 (ipykernel)",
   "language": "python",
   "name": "python3"
  },
  "language_info": {
   "codemirror_mode": {
    "name": "ipython",
    "version": 3
   },
   "file_extension": ".py",
   "mimetype": "text/x-python",
   "name": "python",
   "nbconvert_exporter": "python",
   "pygments_lexer": "ipython3",
   "version": "3.9.6"
  }
 },
 "nbformat": 4,
 "nbformat_minor": 5
}
