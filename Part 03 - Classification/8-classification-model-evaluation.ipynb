{
 "cells": [
  {
   "cell_type": "markdown",
   "id": "ddf73971",
   "metadata": {},
   "source": [
    "# Classification Model Evaluation"
   ]
  },
  {
   "cell_type": "markdown",
   "id": "c50878d7",
   "metadata": {},
   "source": [
    "## Import the libraries"
   ]
  },
  {
   "cell_type": "code",
   "execution_count": 1,
   "id": "ddaa26a9",
   "metadata": {},
   "outputs": [],
   "source": [
    "import numpy as np\n",
    "import matplotlib.pyplot as plt\n",
    "import pandas as pd"
   ]
  },
  {
   "cell_type": "markdown",
   "id": "c0a735b6",
   "metadata": {},
   "source": [
    "## Import the dataset"
   ]
  },
  {
   "cell_type": "code",
   "execution_count": 2,
   "id": "eb3b9e71",
   "metadata": {},
   "outputs": [],
   "source": [
    "dataset = pd.read_csv(\"data/Data.csv\")\n",
    "X = dataset.iloc[:, 1:-1]\n",
    "y = dataset.iloc[:,-1]"
   ]
  },
  {
   "cell_type": "code",
   "execution_count": 3,
   "id": "10365c66",
   "metadata": {},
   "outputs": [
    {
     "data": {
      "text/html": [
       "<div>\n",
       "<style scoped>\n",
       "    .dataframe tbody tr th:only-of-type {\n",
       "        vertical-align: middle;\n",
       "    }\n",
       "\n",
       "    .dataframe tbody tr th {\n",
       "        vertical-align: top;\n",
       "    }\n",
       "\n",
       "    .dataframe thead th {\n",
       "        text-align: right;\n",
       "    }\n",
       "</style>\n",
       "<table border=\"1\" class=\"dataframe\">\n",
       "  <thead>\n",
       "    <tr style=\"text-align: right;\">\n",
       "      <th></th>\n",
       "      <th>Sample code number</th>\n",
       "      <th>Clump Thickness</th>\n",
       "      <th>Uniformity of Cell Size</th>\n",
       "      <th>Uniformity of Cell Shape</th>\n",
       "      <th>Marginal Adhesion</th>\n",
       "      <th>Single Epithelial Cell Size</th>\n",
       "      <th>Bare Nuclei</th>\n",
       "      <th>Bland Chromatin</th>\n",
       "      <th>Normal Nucleoli</th>\n",
       "      <th>Mitoses</th>\n",
       "      <th>Class</th>\n",
       "    </tr>\n",
       "  </thead>\n",
       "  <tbody>\n",
       "    <tr>\n",
       "      <th>0</th>\n",
       "      <td>1000025</td>\n",
       "      <td>5</td>\n",
       "      <td>1</td>\n",
       "      <td>1</td>\n",
       "      <td>1</td>\n",
       "      <td>2</td>\n",
       "      <td>1</td>\n",
       "      <td>3</td>\n",
       "      <td>1</td>\n",
       "      <td>1</td>\n",
       "      <td>2</td>\n",
       "    </tr>\n",
       "    <tr>\n",
       "      <th>1</th>\n",
       "      <td>1002945</td>\n",
       "      <td>5</td>\n",
       "      <td>4</td>\n",
       "      <td>4</td>\n",
       "      <td>5</td>\n",
       "      <td>7</td>\n",
       "      <td>10</td>\n",
       "      <td>3</td>\n",
       "      <td>2</td>\n",
       "      <td>1</td>\n",
       "      <td>2</td>\n",
       "    </tr>\n",
       "    <tr>\n",
       "      <th>2</th>\n",
       "      <td>1015425</td>\n",
       "      <td>3</td>\n",
       "      <td>1</td>\n",
       "      <td>1</td>\n",
       "      <td>1</td>\n",
       "      <td>2</td>\n",
       "      <td>2</td>\n",
       "      <td>3</td>\n",
       "      <td>1</td>\n",
       "      <td>1</td>\n",
       "      <td>2</td>\n",
       "    </tr>\n",
       "    <tr>\n",
       "      <th>3</th>\n",
       "      <td>1016277</td>\n",
       "      <td>6</td>\n",
       "      <td>8</td>\n",
       "      <td>8</td>\n",
       "      <td>1</td>\n",
       "      <td>3</td>\n",
       "      <td>4</td>\n",
       "      <td>3</td>\n",
       "      <td>7</td>\n",
       "      <td>1</td>\n",
       "      <td>2</td>\n",
       "    </tr>\n",
       "    <tr>\n",
       "      <th>4</th>\n",
       "      <td>1017023</td>\n",
       "      <td>4</td>\n",
       "      <td>1</td>\n",
       "      <td>1</td>\n",
       "      <td>3</td>\n",
       "      <td>2</td>\n",
       "      <td>1</td>\n",
       "      <td>3</td>\n",
       "      <td>1</td>\n",
       "      <td>1</td>\n",
       "      <td>2</td>\n",
       "    </tr>\n",
       "  </tbody>\n",
       "</table>\n",
       "</div>"
      ],
      "text/plain": [
       "   Sample code number  Clump Thickness  Uniformity of Cell Size  \\\n",
       "0             1000025                5                        1   \n",
       "1             1002945                5                        4   \n",
       "2             1015425                3                        1   \n",
       "3             1016277                6                        8   \n",
       "4             1017023                4                        1   \n",
       "\n",
       "   Uniformity of Cell Shape  Marginal Adhesion  Single Epithelial Cell Size  \\\n",
       "0                         1                  1                            2   \n",
       "1                         4                  5                            7   \n",
       "2                         1                  1                            2   \n",
       "3                         8                  1                            3   \n",
       "4                         1                  3                            2   \n",
       "\n",
       "   Bare Nuclei  Bland Chromatin  Normal Nucleoli  Mitoses  Class  \n",
       "0            1                3                1        1      2  \n",
       "1           10                3                2        1      2  \n",
       "2            2                3                1        1      2  \n",
       "3            4                3                7        1      2  \n",
       "4            1                3                1        1      2  "
      ]
     },
     "execution_count": 3,
     "metadata": {},
     "output_type": "execute_result"
    }
   ],
   "source": [
    "dataset.head(5)"
   ]
  },
  {
   "cell_type": "code",
   "execution_count": 4,
   "id": "d2cd163d",
   "metadata": {},
   "outputs": [
    {
     "data": {
      "text/html": [
       "<div>\n",
       "<style scoped>\n",
       "    .dataframe tbody tr th:only-of-type {\n",
       "        vertical-align: middle;\n",
       "    }\n",
       "\n",
       "    .dataframe tbody tr th {\n",
       "        vertical-align: top;\n",
       "    }\n",
       "\n",
       "    .dataframe thead th {\n",
       "        text-align: right;\n",
       "    }\n",
       "</style>\n",
       "<table border=\"1\" class=\"dataframe\">\n",
       "  <thead>\n",
       "    <tr style=\"text-align: right;\">\n",
       "      <th></th>\n",
       "      <th>Clump Thickness</th>\n",
       "      <th>Uniformity of Cell Size</th>\n",
       "      <th>Uniformity of Cell Shape</th>\n",
       "      <th>Marginal Adhesion</th>\n",
       "      <th>Single Epithelial Cell Size</th>\n",
       "      <th>Bare Nuclei</th>\n",
       "      <th>Bland Chromatin</th>\n",
       "      <th>Normal Nucleoli</th>\n",
       "      <th>Mitoses</th>\n",
       "    </tr>\n",
       "  </thead>\n",
       "  <tbody>\n",
       "    <tr>\n",
       "      <th>0</th>\n",
       "      <td>5</td>\n",
       "      <td>1</td>\n",
       "      <td>1</td>\n",
       "      <td>1</td>\n",
       "      <td>2</td>\n",
       "      <td>1</td>\n",
       "      <td>3</td>\n",
       "      <td>1</td>\n",
       "      <td>1</td>\n",
       "    </tr>\n",
       "    <tr>\n",
       "      <th>1</th>\n",
       "      <td>5</td>\n",
       "      <td>4</td>\n",
       "      <td>4</td>\n",
       "      <td>5</td>\n",
       "      <td>7</td>\n",
       "      <td>10</td>\n",
       "      <td>3</td>\n",
       "      <td>2</td>\n",
       "      <td>1</td>\n",
       "    </tr>\n",
       "    <tr>\n",
       "      <th>2</th>\n",
       "      <td>3</td>\n",
       "      <td>1</td>\n",
       "      <td>1</td>\n",
       "      <td>1</td>\n",
       "      <td>2</td>\n",
       "      <td>2</td>\n",
       "      <td>3</td>\n",
       "      <td>1</td>\n",
       "      <td>1</td>\n",
       "    </tr>\n",
       "    <tr>\n",
       "      <th>3</th>\n",
       "      <td>6</td>\n",
       "      <td>8</td>\n",
       "      <td>8</td>\n",
       "      <td>1</td>\n",
       "      <td>3</td>\n",
       "      <td>4</td>\n",
       "      <td>3</td>\n",
       "      <td>7</td>\n",
       "      <td>1</td>\n",
       "    </tr>\n",
       "    <tr>\n",
       "      <th>4</th>\n",
       "      <td>4</td>\n",
       "      <td>1</td>\n",
       "      <td>1</td>\n",
       "      <td>3</td>\n",
       "      <td>2</td>\n",
       "      <td>1</td>\n",
       "      <td>3</td>\n",
       "      <td>1</td>\n",
       "      <td>1</td>\n",
       "    </tr>\n",
       "  </tbody>\n",
       "</table>\n",
       "</div>"
      ],
      "text/plain": [
       "   Clump Thickness  Uniformity of Cell Size  Uniformity of Cell Shape  \\\n",
       "0                5                        1                         1   \n",
       "1                5                        4                         4   \n",
       "2                3                        1                         1   \n",
       "3                6                        8                         8   \n",
       "4                4                        1                         1   \n",
       "\n",
       "   Marginal Adhesion  Single Epithelial Cell Size  Bare Nuclei  \\\n",
       "0                  1                            2            1   \n",
       "1                  5                            7           10   \n",
       "2                  1                            2            2   \n",
       "3                  1                            3            4   \n",
       "4                  3                            2            1   \n",
       "\n",
       "   Bland Chromatin  Normal Nucleoli  Mitoses  \n",
       "0                3                1        1  \n",
       "1                3                2        1  \n",
       "2                3                1        1  \n",
       "3                3                7        1  \n",
       "4                3                1        1  "
      ]
     },
     "execution_count": 4,
     "metadata": {},
     "output_type": "execute_result"
    }
   ],
   "source": [
    "X.head(5)"
   ]
  },
  {
   "cell_type": "code",
   "execution_count": 5,
   "id": "31996ddb",
   "metadata": {},
   "outputs": [
    {
     "data": {
      "text/plain": [
       "0    2\n",
       "1    2\n",
       "2    2\n",
       "3    2\n",
       "4    2\n",
       "Name: Class, dtype: int64"
      ]
     },
     "execution_count": 5,
     "metadata": {},
     "output_type": "execute_result"
    }
   ],
   "source": [
    "y.head(5)"
   ]
  },
  {
   "cell_type": "markdown",
   "id": "f65531bc",
   "metadata": {},
   "source": [
    "## Encode Categorical Variable"
   ]
  },
  {
   "cell_type": "code",
   "execution_count": 6,
   "id": "83eaf4f3",
   "metadata": {},
   "outputs": [],
   "source": [
    "from sklearn.preprocessing import LabelEncoder\n",
    "\n",
    "#We have to encode the y into 0 and 1\n",
    "encoder = LabelEncoder()\n",
    "y = encoder.fit_transform(y)"
   ]
  },
  {
   "cell_type": "code",
   "execution_count": 7,
   "id": "b3653269",
   "metadata": {},
   "outputs": [
    {
     "name": "stdout",
     "output_type": "stream",
     "text": [
      "[0 0 0 0 0 1 0 0 0 0]\n"
     ]
    }
   ],
   "source": [
    "print(y[:10])"
   ]
  },
  {
   "cell_type": "markdown",
   "id": "7759eb39",
   "metadata": {},
   "source": [
    "## Splitting the dataset into the Training Set and Test Set"
   ]
  },
  {
   "cell_type": "code",
   "execution_count": 8,
   "id": "ab361f8c",
   "metadata": {},
   "outputs": [],
   "source": [
    "from sklearn.model_selection import train_test_split\n",
    "X_train, X_test, y_train, y_test = train_test_split(X, y, test_size=0.2, random_state=0)"
   ]
  },
  {
   "cell_type": "code",
   "execution_count": 9,
   "id": "872f3dd0",
   "metadata": {},
   "outputs": [
    {
     "name": "stdout",
     "output_type": "stream",
     "text": [
      "546 137 546 137\n"
     ]
    }
   ],
   "source": [
    "print(len(X_train), len(X_test), len(y_train), len(y_test))"
   ]
  },
  {
   "cell_type": "markdown",
   "id": "5fb6b94e",
   "metadata": {},
   "source": [
    "## Feature Scaling"
   ]
  },
  {
   "cell_type": "code",
   "execution_count": 10,
   "id": "43575375",
   "metadata": {},
   "outputs": [],
   "source": [
    "from sklearn.preprocessing import StandardScaler\n",
    "\n",
    "sc = StandardScaler()\n",
    "X_train_scaled = sc.fit_transform(X_train)\n",
    "X_test_scaled = sc.transform(X_test)"
   ]
  },
  {
   "cell_type": "markdown",
   "id": "b3954c7d",
   "metadata": {},
   "source": [
    "## Training the Classification model on the Training set"
   ]
  },
  {
   "cell_type": "markdown",
   "id": "965ac9c3",
   "metadata": {},
   "source": [
    "### Logistic Regression"
   ]
  },
  {
   "cell_type": "code",
   "execution_count": 11,
   "id": "b0245e4b",
   "metadata": {},
   "outputs": [
    {
     "data": {
      "text/plain": [
       "LogisticRegression(random_state=0)"
      ]
     },
     "execution_count": 11,
     "metadata": {},
     "output_type": "execute_result"
    }
   ],
   "source": [
    "from sklearn.linear_model import LogisticRegression\n",
    "\n",
    "logreg_classifier = LogisticRegression(random_state=0)\n",
    "logreg_classifier.fit(X_train_scaled, y_train)"
   ]
  },
  {
   "cell_type": "markdown",
   "id": "b5b1f68f",
   "metadata": {},
   "source": [
    "### K-Nearest Neigbors"
   ]
  },
  {
   "cell_type": "code",
   "execution_count": 12,
   "id": "f4824d41",
   "metadata": {},
   "outputs": [
    {
     "data": {
      "text/plain": [
       "KNeighborsClassifier()"
      ]
     },
     "execution_count": 12,
     "metadata": {},
     "output_type": "execute_result"
    }
   ],
   "source": [
    "from sklearn.neighbors import KNeighborsClassifier\n",
    "\n",
    "knn_classifier = KNeighborsClassifier(n_neighbors=5, metric='minkowski', p=2)\n",
    "knn_classifier.fit(X_train_scaled, y_train)"
   ]
  },
  {
   "cell_type": "markdown",
   "id": "11a4d7c2",
   "metadata": {},
   "source": [
    "### Support Vector Machines"
   ]
  },
  {
   "cell_type": "code",
   "execution_count": 13,
   "id": "f55ba755",
   "metadata": {},
   "outputs": [
    {
     "data": {
      "text/plain": [
       "SVC(kernel='linear', random_state=0)"
      ]
     },
     "execution_count": 13,
     "metadata": {},
     "output_type": "execute_result"
    }
   ],
   "source": [
    "from sklearn.svm import SVC\n",
    "\n",
    "svc_lin_classifier = SVC(kernel='linear', random_state=0)\n",
    "svc_lin_classifier.fit(X_train_scaled, y_train)"
   ]
  },
  {
   "cell_type": "markdown",
   "id": "20acf744",
   "metadata": {},
   "source": [
    "### Kernel Support Vector"
   ]
  },
  {
   "cell_type": "code",
   "execution_count": 14,
   "id": "ef2ef33a",
   "metadata": {},
   "outputs": [
    {
     "data": {
      "text/plain": [
       "SVC(random_state=0)"
      ]
     },
     "execution_count": 14,
     "metadata": {},
     "output_type": "execute_result"
    }
   ],
   "source": [
    "from sklearn.svm import SVC\n",
    "\n",
    "svc_rbf_classifier = SVC(kernel='rbf', random_state=0)\n",
    "svc_rbf_classifier.fit(X_train_scaled, y_train)"
   ]
  },
  {
   "cell_type": "markdown",
   "id": "9f48f058",
   "metadata": {},
   "source": [
    "### Naive Bayes"
   ]
  },
  {
   "cell_type": "code",
   "execution_count": 15,
   "id": "98bc3578",
   "metadata": {},
   "outputs": [
    {
     "data": {
      "text/plain": [
       "GaussianNB()"
      ]
     },
     "execution_count": 15,
     "metadata": {},
     "output_type": "execute_result"
    }
   ],
   "source": [
    "from sklearn.naive_bayes import GaussianNB\n",
    "\n",
    "gnb_classifier = GaussianNB()\n",
    "gnb_classifier.fit(X_train_scaled, y_train)"
   ]
  },
  {
   "cell_type": "markdown",
   "id": "89e9911a",
   "metadata": {},
   "source": [
    "### Decision Tree Classification"
   ]
  },
  {
   "cell_type": "code",
   "execution_count": 16,
   "id": "65e9c5e6",
   "metadata": {},
   "outputs": [
    {
     "data": {
      "text/plain": [
       "DecisionTreeClassifier(criterion='entropy', random_state=0)"
      ]
     },
     "execution_count": 16,
     "metadata": {},
     "output_type": "execute_result"
    }
   ],
   "source": [
    "from sklearn.tree import DecisionTreeClassifier\n",
    "\n",
    "dtree_classifier = DecisionTreeClassifier(criterion='entropy', random_state=0)\n",
    "dtree_classifier.fit(X_train_scaled, y_train)"
   ]
  },
  {
   "cell_type": "markdown",
   "id": "e16e7af5",
   "metadata": {},
   "source": [
    "### Random Forest Classification"
   ]
  },
  {
   "cell_type": "code",
   "execution_count": 17,
   "id": "c89a23bd",
   "metadata": {},
   "outputs": [
    {
     "data": {
      "text/plain": [
       "RandomForestClassifier(criterion='entropy', random_state=0)"
      ]
     },
     "execution_count": 17,
     "metadata": {},
     "output_type": "execute_result"
    }
   ],
   "source": [
    "from sklearn.ensemble import RandomForestClassifier\n",
    "\n",
    "rforest_classifier = RandomForestClassifier(n_estimators=100, criterion='entropy', random_state=0)\n",
    "rforest_classifier.fit(X_train_scaled, y_train)"
   ]
  },
  {
   "cell_type": "markdown",
   "id": "78843ce9",
   "metadata": {},
   "source": [
    "## Evaluating Classification Model"
   ]
  },
  {
   "cell_type": "markdown",
   "id": "0872bf94",
   "metadata": {},
   "source": [
    "### Calculating Confusion Matrix and Model Accuracy"
   ]
  },
  {
   "cell_type": "code",
   "execution_count": 18,
   "id": "38f6d78a",
   "metadata": {},
   "outputs": [
    {
     "name": "stdout",
     "output_type": "stream",
     "text": [
      "LOGISTIC REGRESSION\n",
      "Confusion Matrix : \n",
      " [[84  3]\n",
      " [ 3 47]]\n",
      "\n",
      "Model Accuracy : 0.9562043795620438\n",
      "=============================================================\n",
      "K-NEAREST NEIGHBORS\n",
      "Confusion Matrix : \n",
      " [[83  4]\n",
      " [ 2 48]]\n",
      "\n",
      "Model Accuracy : 0.9562043795620438\n",
      "=============================================================\n",
      "SVC (Linear Kernel)\n",
      "Confusion Matrix : \n",
      " [[83  4]\n",
      " [ 2 48]]\n",
      "\n",
      "Model Accuracy : 0.9562043795620438\n",
      "=============================================================\n",
      "SVC (RBF Kernel)\n",
      "Confusion Matrix : \n",
      " [[82  5]\n",
      " [ 1 49]]\n",
      "\n",
      "Model Accuracy : 0.9562043795620438\n",
      "=============================================================\n",
      "Naive Bayes\n",
      "Confusion Matrix : \n",
      " [[80  7]\n",
      " [ 0 50]]\n",
      "\n",
      "Model Accuracy : 0.948905109489051\n",
      "=============================================================\n",
      "Decision Tree Classification\n",
      "Confusion Matrix : \n",
      " [[84  3]\n",
      " [ 3 47]]\n",
      "\n",
      "Model Accuracy : 0.9562043795620438\n",
      "=============================================================\n",
      "Random Forest Classification\n",
      "Confusion Matrix : \n",
      " [[84  3]\n",
      " [ 1 49]]\n",
      "\n",
      "Model Accuracy : 0.9708029197080292\n",
      "=============================================================\n"
     ]
    }
   ],
   "source": [
    "from sklearn.metrics import confusion_matrix, accuracy_score\n",
    "\n",
    "y_pred_logreg = logreg_classifier.predict(X_test_scaled)\n",
    "y_pred_knn = knn_classifier.predict(X_test_scaled)\n",
    "y_pred_svc_lin = svc_lin_classifier.predict(X_test_scaled)\n",
    "y_pred_svc_rbf = svc_rbf_classifier.predict(X_test_scaled)\n",
    "y_pred_gnb = gnb_classifier.predict(X_test_scaled)\n",
    "y_pred_dtree = dtree_classifier.predict(X_test_scaled)\n",
    "y_pred_rforest = rforest_classifier.predict(X_test_scaled)\n",
    "\n",
    "\n",
    "print(\"LOGISTIC REGRESSION\")\n",
    "print(\"Confusion Matrix : \\n\", confusion_matrix(y_test, y_pred_logreg))\n",
    "print()\n",
    "print(f\"Model Accuracy : {accuracy_score(y_test, y_pred_logreg)}\")\n",
    "print(\"=============================================================\")\n",
    "\n",
    "print(\"K-NEAREST NEIGHBORS\")\n",
    "print(\"Confusion Matrix : \\n\", confusion_matrix(y_test, y_pred_knn))\n",
    "print()\n",
    "print(f\"Model Accuracy : {accuracy_score(y_test, y_pred_knn)}\")\n",
    "print(\"=============================================================\")\n",
    "\n",
    "print(\"SVC (Linear Kernel)\")\n",
    "print(\"Confusion Matrix : \\n\", confusion_matrix(y_test, y_pred_svc_lin))\n",
    "print()\n",
    "print(f\"Model Accuracy : {accuracy_score(y_test, y_pred_svc_lin)}\")\n",
    "print(\"=============================================================\")\n",
    "\n",
    "print(\"SVC (RBF Kernel)\")\n",
    "print(\"Confusion Matrix : \\n\", confusion_matrix(y_test, y_pred_svc_rbf))\n",
    "print()\n",
    "print(f\"Model Accuracy : {accuracy_score(y_test, y_pred_svc_rbf)}\")\n",
    "print(\"=============================================================\")\n",
    "\n",
    "print(\"Naive Bayes\")\n",
    "print(\"Confusion Matrix : \\n\", confusion_matrix(y_test, y_pred_gnb))\n",
    "print()\n",
    "print(f\"Model Accuracy : {accuracy_score(y_test, y_pred_gnb)}\")\n",
    "print(\"=============================================================\")\n",
    "\n",
    "print(\"Decision Tree Classification\")\n",
    "print(\"Confusion Matrix : \\n\", confusion_matrix(y_test, y_pred_dtree))\n",
    "print()\n",
    "print(f\"Model Accuracy : {accuracy_score(y_test, y_pred_dtree)}\")\n",
    "print(\"=============================================================\")\n",
    "\n",
    "print(\"Random Forest Classification\")\n",
    "print(\"Confusion Matrix : \\n\", confusion_matrix(y_test, y_pred_rforest))\n",
    "print()\n",
    "print(f\"Model Accuracy : {accuracy_score(y_test, y_pred_rforest)}\")\n",
    "print(\"=============================================================\")"
   ]
  },
  {
   "cell_type": "code",
   "execution_count": 19,
   "id": "6ede2eb9",
   "metadata": {},
   "outputs": [
    {
     "data": {
      "text/html": [
       "<div>\n",
       "<style scoped>\n",
       "    .dataframe tbody tr th:only-of-type {\n",
       "        vertical-align: middle;\n",
       "    }\n",
       "\n",
       "    .dataframe tbody tr th {\n",
       "        vertical-align: top;\n",
       "    }\n",
       "\n",
       "    .dataframe thead th {\n",
       "        text-align: right;\n",
       "    }\n",
       "</style>\n",
       "<table border=\"1\" class=\"dataframe\">\n",
       "  <thead>\n",
       "    <tr style=\"text-align: right;\">\n",
       "      <th></th>\n",
       "      <th>Model Name</th>\n",
       "      <th>Accuracy Score</th>\n",
       "      <th>F1 Score</th>\n",
       "      <th>ROC AUC Score</th>\n",
       "    </tr>\n",
       "  </thead>\n",
       "  <tbody>\n",
       "    <tr>\n",
       "      <th>0</th>\n",
       "      <td>Random Forest</td>\n",
       "      <td>0.97080</td>\n",
       "      <td>0.96078</td>\n",
       "      <td>0.97276</td>\n",
       "    </tr>\n",
       "    <tr>\n",
       "      <th>1</th>\n",
       "      <td>Logistic Regression</td>\n",
       "      <td>0.95620</td>\n",
       "      <td>0.94000</td>\n",
       "      <td>0.95276</td>\n",
       "    </tr>\n",
       "    <tr>\n",
       "      <th>2</th>\n",
       "      <td>KNN</td>\n",
       "      <td>0.95620</td>\n",
       "      <td>0.94118</td>\n",
       "      <td>0.95701</td>\n",
       "    </tr>\n",
       "    <tr>\n",
       "      <th>3</th>\n",
       "      <td>SVC (Linear)</td>\n",
       "      <td>0.95620</td>\n",
       "      <td>0.94118</td>\n",
       "      <td>0.95701</td>\n",
       "    </tr>\n",
       "    <tr>\n",
       "      <th>4</th>\n",
       "      <td>SVC (RBF)</td>\n",
       "      <td>0.95620</td>\n",
       "      <td>0.94231</td>\n",
       "      <td>0.96126</td>\n",
       "    </tr>\n",
       "    <tr>\n",
       "      <th>5</th>\n",
       "      <td>Decision Tree</td>\n",
       "      <td>0.95620</td>\n",
       "      <td>0.94000</td>\n",
       "      <td>0.95276</td>\n",
       "    </tr>\n",
       "    <tr>\n",
       "      <th>6</th>\n",
       "      <td>Naive Bayes</td>\n",
       "      <td>0.94891</td>\n",
       "      <td>0.93458</td>\n",
       "      <td>0.95977</td>\n",
       "    </tr>\n",
       "  </tbody>\n",
       "</table>\n",
       "</div>"
      ],
      "text/plain": [
       "            Model Name  Accuracy Score  F1 Score  ROC AUC Score\n",
       "0        Random Forest         0.97080   0.96078        0.97276\n",
       "1  Logistic Regression         0.95620   0.94000        0.95276\n",
       "2                  KNN         0.95620   0.94118        0.95701\n",
       "3         SVC (Linear)         0.95620   0.94118        0.95701\n",
       "4            SVC (RBF)         0.95620   0.94231        0.96126\n",
       "5        Decision Tree         0.95620   0.94000        0.95276\n",
       "6          Naive Bayes         0.94891   0.93458        0.95977"
      ]
     },
     "execution_count": 19,
     "metadata": {},
     "output_type": "execute_result"
    }
   ],
   "source": [
    "from sklearn.metrics import f1_score, roc_auc_score\n",
    "\n",
    "pd.set_option(\"display.precision\", 5)\n",
    "\n",
    "score_list = [[\"Logistic Regression\", accuracy_score(y_test, y_pred_logreg), f1_score(y_test, y_pred_logreg), roc_auc_score(y_test, y_pred_logreg)],\n",
    "              [\"KNN\", accuracy_score(y_test, y_pred_knn), f1_score(y_test, y_pred_knn), roc_auc_score(y_test, y_pred_knn)],\n",
    "              [\"SVC (Linear)\", accuracy_score(y_test, y_pred_svc_lin), f1_score(y_test, y_pred_svc_lin), roc_auc_score(y_test, y_pred_svc_lin)],\n",
    "              [\"SVC (RBF)\", accuracy_score(y_test, y_pred_svc_rbf), f1_score(y_test, y_pred_svc_rbf), roc_auc_score(y_test, y_pred_svc_rbf)],\n",
    "              [\"Naive Bayes\", accuracy_score(y_test, y_pred_gnb), f1_score(y_test, y_pred_gnb), roc_auc_score(y_test, y_pred_gnb)],\n",
    "              [\"Decision Tree\", accuracy_score(y_test, y_pred_dtree), f1_score(y_test, y_pred_dtree), roc_auc_score(y_test, y_pred_dtree)],\n",
    "              [\"Random Forest\", accuracy_score(y_test, y_pred_rforest), f1_score(y_test, y_pred_rforest), roc_auc_score(y_test, y_pred_rforest)]]\n",
    "\n",
    "df_model_score = pd.DataFrame(score_list, columns=[\"Model Name\",\"Accuracy Score\",\"F1 Score\", \"ROC AUC Score\"])\n",
    "\n",
    "df_model_score.sort_values(by=[\"Accuracy Score\"], ascending=False, ignore_index=True, inplace=True)\n",
    "\n",
    "df_model_score"
   ]
  }
 ],
 "metadata": {
  "kernelspec": {
   "display_name": "Python 3 (ipykernel)",
   "language": "python",
   "name": "python3"
  },
  "language_info": {
   "codemirror_mode": {
    "name": "ipython",
    "version": 3
   },
   "file_extension": ".py",
   "mimetype": "text/x-python",
   "name": "python",
   "nbconvert_exporter": "python",
   "pygments_lexer": "ipython3",
   "version": "3.9.6"
  }
 },
 "nbformat": 4,
 "nbformat_minor": 5
}
