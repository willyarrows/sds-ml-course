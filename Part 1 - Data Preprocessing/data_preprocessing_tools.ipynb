{
 "cells": [
  {
   "cell_type": "markdown",
   "id": "076fef58",
   "metadata": {},
   "source": [
    "## Data Preprocessing Tools"
   ]
  },
  {
   "cell_type": "markdown",
   "id": "fa87ab8e",
   "metadata": {},
   "source": [
    "### Importing the libraries"
   ]
  },
  {
   "cell_type": "code",
   "execution_count": 26,
   "id": "bdc475e9",
   "metadata": {},
   "outputs": [],
   "source": [
    "import numpy as np\n",
    "import matplotlib.pyplot as plt\n",
    "import pandas as pd"
   ]
  },
  {
   "cell_type": "markdown",
   "id": "926ecd50",
   "metadata": {},
   "source": [
    "### Importing the dataset"
   ]
  },
  {
   "cell_type": "code",
   "execution_count": 27,
   "id": "9658c21f",
   "metadata": {},
   "outputs": [],
   "source": [
    "dataset = pd.read_csv(\"data/Data.csv\")\n",
    "\n",
    "X = dataset.iloc[:, :-1]  # take all the column exclude the last column, and convert to ndarray\n",
    "y = dataset.iloc[:, -1]   # take only the last column, and convert to ndarray"
   ]
  },
  {
   "cell_type": "code",
   "execution_count": 28,
   "id": "067bca79",
   "metadata": {},
   "outputs": [
    {
     "name": "stdout",
     "output_type": "stream",
     "text": [
      "   Country   Age   Salary\n",
      "0   France  44.0  72000.0\n",
      "1    Spain  27.0  48000.0\n",
      "2  Germany  30.0  54000.0\n",
      "3    Spain  38.0  61000.0\n",
      "4  Germany  40.0      NaN\n",
      "5   France  35.0  58000.0\n",
      "6    Spain   NaN  52000.0\n",
      "7   France  48.0  79000.0\n",
      "8  Germany  50.0  83000.0\n",
      "9   France  37.0  67000.0\n"
     ]
    }
   ],
   "source": [
    "print(X)"
   ]
  },
  {
   "cell_type": "code",
   "execution_count": 29,
   "id": "85af80f9",
   "metadata": {},
   "outputs": [
    {
     "name": "stdout",
     "output_type": "stream",
     "text": [
      "0     No\n",
      "1    Yes\n",
      "2     No\n",
      "3     No\n",
      "4    Yes\n",
      "5    Yes\n",
      "6     No\n",
      "7    Yes\n",
      "8     No\n",
      "9    Yes\n",
      "Name: Purchased, dtype: object\n"
     ]
    }
   ],
   "source": [
    "print(y)"
   ]
  },
  {
   "cell_type": "markdown",
   "id": "b08b8540",
   "metadata": {},
   "source": [
    "### Taking care of missing data"
   ]
  },
  {
   "cell_type": "code",
   "execution_count": 30,
   "id": "423fd11e",
   "metadata": {},
   "outputs": [
    {
     "data": {
      "text/plain": [
       "Country      0\n",
       "Age          1\n",
       "Salary       1\n",
       "Purchased    0\n",
       "dtype: int64"
      ]
     },
     "execution_count": 30,
     "metadata": {},
     "output_type": "execute_result"
    }
   ],
   "source": [
    "# Check the number of missing data in the dataset\n",
    "dataset.isna().sum()"
   ]
  },
  {
   "cell_type": "code",
   "execution_count": 31,
   "id": "7d020ce1",
   "metadata": {},
   "outputs": [],
   "source": [
    "from sklearn.impute import SimpleImputer\n",
    "\n",
    "# Define which numerical columns that we are going to impute\n",
    "num_features = [\"Age\", \"Salary\"]\n",
    "\n",
    "# Create a handler to fill numerical value with its mean\n",
    "imputer = SimpleImputer(missing_values=np.nan, strategy='mean')\n",
    "\n",
    "# Impute the numerical columns\n",
    "X.loc[:, num_features] = imputer.fit_transform(X[num_features])"
   ]
  },
  {
   "cell_type": "code",
   "execution_count": 32,
   "id": "c1236875",
   "metadata": {},
   "outputs": [
    {
     "name": "stdout",
     "output_type": "stream",
     "text": [
      "   Country        Age        Salary\n",
      "0   France  44.000000  72000.000000\n",
      "1    Spain  27.000000  48000.000000\n",
      "2  Germany  30.000000  54000.000000\n",
      "3    Spain  38.000000  61000.000000\n",
      "4  Germany  40.000000  63777.777778\n",
      "5   France  35.000000  58000.000000\n",
      "6    Spain  38.777778  52000.000000\n",
      "7   France  48.000000  79000.000000\n",
      "8  Germany  50.000000  83000.000000\n",
      "9   France  37.000000  67000.000000\n"
     ]
    }
   ],
   "source": [
    "print(X)"
   ]
  },
  {
   "cell_type": "markdown",
   "id": "cf8430be",
   "metadata": {},
   "source": [
    "### Encoding Categorical Data\n",
    "\n",
    "#### Encoding the Independent Variable"
   ]
  },
  {
   "cell_type": "code",
   "execution_count": 33,
   "id": "a82422af",
   "metadata": {},
   "outputs": [],
   "source": [
    "from sklearn.preprocessing import OneHotEncoder\n",
    "\n",
    "# Define which categorical columns that we are going to encode\n",
    "cat_features = [\"Country\"]\n",
    "\n",
    "# Encode the categorical columns\n",
    "encoder = OneHotEncoder(sparse=False)\n",
    "X_encoded = pd.DataFrame(encoder.fit_transform(X.loc[:, cat_features]))\n",
    "X_encoded.columns = encoder.get_feature_names(cat_features)\n",
    "\n",
    "# Combine X with encoded columns\n",
    "X.drop(cat_features ,axis=1, inplace=True)\n",
    "X = pd.concat([X_encoded, X], axis=1)"
   ]
  },
  {
   "cell_type": "code",
   "execution_count": 34,
   "id": "64a32598",
   "metadata": {},
   "outputs": [
    {
     "name": "stdout",
     "output_type": "stream",
     "text": [
      "   Country_France  Country_Germany  Country_Spain        Age        Salary\n",
      "0             1.0              0.0            0.0  44.000000  72000.000000\n",
      "1             0.0              0.0            1.0  27.000000  48000.000000\n",
      "2             0.0              1.0            0.0  30.000000  54000.000000\n",
      "3             0.0              0.0            1.0  38.000000  61000.000000\n",
      "4             0.0              1.0            0.0  40.000000  63777.777778\n",
      "5             1.0              0.0            0.0  35.000000  58000.000000\n",
      "6             0.0              0.0            1.0  38.777778  52000.000000\n",
      "7             1.0              0.0            0.0  48.000000  79000.000000\n",
      "8             0.0              1.0            0.0  50.000000  83000.000000\n",
      "9             1.0              0.0            0.0  37.000000  67000.000000\n"
     ]
    }
   ],
   "source": [
    "print(X)"
   ]
  },
  {
   "cell_type": "markdown",
   "id": "cdb7fa03",
   "metadata": {},
   "source": [
    "#### Encoding Dependent Variable"
   ]
  },
  {
   "cell_type": "code",
   "execution_count": 35,
   "id": "42317c24",
   "metadata": {},
   "outputs": [],
   "source": [
    "from sklearn.preprocessing import LabelEncoder\n",
    "\n",
    "# Encode the label data\n",
    "le = LabelEncoder()\n",
    "y = le.fit_transform(y)"
   ]
  },
  {
   "cell_type": "code",
   "execution_count": 36,
   "id": "29f725b1",
   "metadata": {},
   "outputs": [
    {
     "name": "stdout",
     "output_type": "stream",
     "text": [
      "[0 1 0 0 1 1 0 1 0 1]\n"
     ]
    }
   ],
   "source": [
    "print(y)"
   ]
  },
  {
   "cell_type": "markdown",
   "id": "9b5c2e5b",
   "metadata": {},
   "source": [
    "### Splitting the dataset into the Training set and Test set"
   ]
  },
  {
   "cell_type": "code",
   "execution_count": 37,
   "id": "8d3ecc83",
   "metadata": {},
   "outputs": [],
   "source": [
    "from sklearn.model_selection import train_test_split\n",
    "\n",
    "X_train, X_test, y_train, y_test = train_test_split(X, y, \n",
    "                                                    test_size=0.2,  # 20% test dataset\n",
    "                                                    random_state=1  # for reproducibility purpose\n",
    "                                                   )"
   ]
  },
  {
   "cell_type": "code",
   "execution_count": 38,
   "id": "5408b795",
   "metadata": {},
   "outputs": [
    {
     "name": "stdout",
     "output_type": "stream",
     "text": [
      "   Country_France  Country_Germany  Country_Spain        Age        Salary\n",
      "6             0.0              0.0            1.0  38.777778  52000.000000\n",
      "4             0.0              1.0            0.0  40.000000  63777.777778\n",
      "0             1.0              0.0            0.0  44.000000  72000.000000\n",
      "3             0.0              0.0            1.0  38.000000  61000.000000\n",
      "1             0.0              0.0            1.0  27.000000  48000.000000\n",
      "7             1.0              0.0            0.0  48.000000  79000.000000\n",
      "8             0.0              1.0            0.0  50.000000  83000.000000\n",
      "5             1.0              0.0            0.0  35.000000  58000.000000\n"
     ]
    }
   ],
   "source": [
    "print(X_train)"
   ]
  },
  {
   "cell_type": "code",
   "execution_count": 39,
   "id": "d826fb1d",
   "metadata": {},
   "outputs": [
    {
     "name": "stdout",
     "output_type": "stream",
     "text": [
      "   Country_France  Country_Germany  Country_Spain   Age   Salary\n",
      "2             0.0              1.0            0.0  30.0  54000.0\n",
      "9             1.0              0.0            0.0  37.0  67000.0\n"
     ]
    }
   ],
   "source": [
    "print(X_test)"
   ]
  },
  {
   "cell_type": "code",
   "execution_count": 40,
   "id": "3f6c6d19",
   "metadata": {},
   "outputs": [
    {
     "name": "stdout",
     "output_type": "stream",
     "text": [
      "[0 1 0 0 1 1 0 1]\n"
     ]
    }
   ],
   "source": [
    "print (y_train)"
   ]
  },
  {
   "cell_type": "code",
   "execution_count": 41,
   "id": "6721bfec",
   "metadata": {},
   "outputs": [
    {
     "name": "stdout",
     "output_type": "stream",
     "text": [
      "[0 1]\n"
     ]
    }
   ],
   "source": [
    "print (y_test)"
   ]
  },
  {
   "cell_type": "markdown",
   "id": "ab926bed",
   "metadata": {},
   "source": [
    "### Feature Scaling"
   ]
  },
  {
   "cell_type": "code",
   "execution_count": 42,
   "id": "8656a865",
   "metadata": {},
   "outputs": [],
   "source": [
    "from sklearn.preprocessing import StandardScaler\n",
    "\n",
    "# Define which numerical columns that we are going to scale\n",
    "scale_features = [\"Age\", \"Salary\"]\n",
    "\n",
    "sc = StandardScaler()\n",
    "pd.options.mode.chained_assignment = None # to disable SettingWithCopyWarning\n",
    "X_train.loc[:, scale_features] = sc.fit_transform(X_train.loc[:, scale_features])\n",
    "X_test.loc[:, scale_features] = sc.transform(X_test.loc[:, scale_features]) # use the same scaler that has been applied to train set\n",
    "pd.options.mode.chained_assignment = 'warn' # to re-enable SettingWithCopyWarning"
   ]
  },
  {
   "cell_type": "code",
   "execution_count": 43,
   "id": "89d0d0ce",
   "metadata": {},
   "outputs": [
    {
     "name": "stdout",
     "output_type": "stream",
     "text": [
      "   Country_France  Country_Germany  Country_Spain       Age    Salary\n",
      "6             0.0              0.0            1.0 -0.191592 -1.078126\n",
      "4             0.0              1.0            0.0 -0.014117 -0.070132\n",
      "0             1.0              0.0            0.0  0.566709  0.633562\n",
      "3             0.0              0.0            1.0 -0.304530 -0.307866\n",
      "1             0.0              0.0            1.0 -1.901801 -1.420464\n",
      "7             1.0              0.0            0.0  1.147534  1.232653\n",
      "8             0.0              1.0            0.0  1.437947  1.574991\n",
      "5             1.0              0.0            0.0 -0.740150 -0.564619\n"
     ]
    }
   ],
   "source": [
    "print(X_train)"
   ]
  },
  {
   "cell_type": "code",
   "execution_count": 44,
   "id": "401f5d19",
   "metadata": {},
   "outputs": [
    {
     "name": "stdout",
     "output_type": "stream",
     "text": [
      "   Country_France  Country_Germany  Country_Spain       Age    Salary\n",
      "2             0.0              1.0            0.0 -1.466182 -0.906957\n",
      "9             1.0              0.0            0.0 -0.449737  0.205640\n"
     ]
    }
   ],
   "source": [
    "print(X_test)"
   ]
  },
  {
   "cell_type": "code",
   "execution_count": null,
   "id": "e5a63ea8",
   "metadata": {},
   "outputs": [],
   "source": []
  }
 ],
 "metadata": {
  "kernelspec": {
   "display_name": "Python 3 (ipykernel)",
   "language": "python",
   "name": "python3"
  },
  "language_info": {
   "codemirror_mode": {
    "name": "ipython",
    "version": 3
   },
   "file_extension": ".py",
   "mimetype": "text/x-python",
   "name": "python",
   "nbconvert_exporter": "python",
   "pygments_lexer": "ipython3",
   "version": "3.9.6"
  }
 },
 "nbformat": 4,
 "nbformat_minor": 5
}
